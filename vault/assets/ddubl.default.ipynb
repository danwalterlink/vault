{
 "cells": [
  {
   "attachments": {},
   "cell_type": "markdown",
   "metadata": {
    "tags": []
   },
   "source": [
    "# default notebook"
   ]
  },
  {
   "cell_type": "code",
   "execution_count": null,
   "metadata": {
    "dotnet_interactive": {
     "language": "javascript"
    },
    "polyglot_notebook": {
     "kernelName": "javascript"
    },
    "vscode": {
     "languageId": "polyglot-notebook"
    }
   },
   "outputs": [
    {
     "data": {
      "application/json": "someString"
     },
     "metadata": {},
     "output_type": "display_data"
    }
   ],
   "source": [
    "let someVar = 'someString';\n",
    "return someVar;\n",
    "\n",
    "#!share --from connection-alias ddubl.default"
   ]
  },
  {
   "cell_type": "code",
   "execution_count": 2,
   "metadata": {
    "dotnet_interactive": {
     "language": "javascript"
    },
    "polyglot_notebook": {
     "kernelName": "javascript"
    },
    "vscode": {
     "languageId": "polyglot-notebook"
    }
   },
   "outputs": [
    {
     "data": {
      "application/json": "anotherVar is currently 1"
     },
     "metadata": {},
     "output_type": "display_data"
    }
   ],
   "source": [
    "// second block\n",
    "let anotherVar = 1;\n",
    "while (anotherVar <= 3){\n",
    "  return `anotherVar is currently ${anotherVar++}`\n",
    "}"
   ]
  },
  {
   "attachments": {},
   "cell_type": "markdown",
   "metadata": {},
   "source": [
    "![[dendron link|dendron://vault/dendron]]"
   ]
  }
 ],
 "metadata": {
  "kernelspec": {
   "display_name": "Python 3",
   "language": "python",
   "name": "python3"
  },
  "language_info": {
   "name": "python",
   "version": "3.10.0"
  },
  "polyglot_notebook": {
   "kernelInfo": {
    "defaultKernelName": "javascript",
    "items": [
     {
      "aliases": [],
      "languageName": "javascript",
      "name": "javascript"
     }
    ]
   }
  }
 },
 "nbformat": 4,
 "nbformat_minor": 2
}
